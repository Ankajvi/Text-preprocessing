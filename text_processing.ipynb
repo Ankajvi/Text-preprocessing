{
 "cells": [
  {
   "cell_type": "markdown",
   "metadata": {},
   "source": [
    "# Text Processing\n",
    "\n",
    "## Capturing Text Data\n",
    "\n",
    "### Plain Text"
   ]
  },
  {
   "cell_type": "code",
   "execution_count": 1,
   "metadata": {},
   "outputs": [
    {
     "name": "stdout",
     "output_type": "stream",
     "text": [
      "Hieroglyphic writing dates from c. 3000 BC, and is composed of hundreds of symbols. A hieroglyph can represent a word, a sound, or a silent determinative; and the same symbol can serve different purposes in different contexts. Hieroglyphs were a formal script, used on stone monuments and in tombs, that could be as detailed as individual works of art.\n",
      "\n"
     ]
    }
   ],
   "source": [
    "import os\n",
    "\n",
    "# Read in a plain text file\n",
    "with open(os.path.join(\"data\", \"hieroglyph.txt\"), \"r\") as f:\n",
    "    text = f.read()\n",
    "    print(text)"
   ]
  },
  {
   "cell_type": "markdown",
   "metadata": {},
   "source": [
    "### Tabular Data"
   ]
  },
  {
   "cell_type": "code",
   "execution_count": 2,
   "metadata": {
    "scrolled": true
   },
   "outputs": [
    {
     "data": {
      "text/html": [
       "<div>\n",
       "<style scoped>\n",
       "    .dataframe tbody tr th:only-of-type {\n",
       "        vertical-align: middle;\n",
       "    }\n",
       "\n",
       "    .dataframe tbody tr th {\n",
       "        vertical-align: top;\n",
       "    }\n",
       "\n",
       "    .dataframe thead th {\n",
       "        text-align: right;\n",
       "    }\n",
       "</style>\n",
       "<table border=\"1\" class=\"dataframe\">\n",
       "  <thead>\n",
       "    <tr style=\"text-align: right;\">\n",
       "      <th></th>\n",
       "      <th>publisher</th>\n",
       "      <th>title</th>\n",
       "    </tr>\n",
       "  </thead>\n",
       "  <tbody>\n",
       "    <tr>\n",
       "      <th>0</th>\n",
       "      <td>Livemint</td>\n",
       "      <td>fed's charles plosser sees high bar for change...</td>\n",
       "    </tr>\n",
       "    <tr>\n",
       "      <th>1</th>\n",
       "      <td>IFA Magazine</td>\n",
       "      <td>us open: stocks fall after fed official hints ...</td>\n",
       "    </tr>\n",
       "    <tr>\n",
       "      <th>2</th>\n",
       "      <td>IFA Magazine</td>\n",
       "      <td>fed risks falling 'behind the curve', charles ...</td>\n",
       "    </tr>\n",
       "    <tr>\n",
       "      <th>3</th>\n",
       "      <td>Moneynews</td>\n",
       "      <td>fed's plosser: nasty weather has curbed job gr...</td>\n",
       "    </tr>\n",
       "    <tr>\n",
       "      <th>4</th>\n",
       "      <td>NASDAQ</td>\n",
       "      <td>plosser: fed may have to accelerate tapering pace</td>\n",
       "    </tr>\n",
       "  </tbody>\n",
       "</table>\n",
       "</div>"
      ],
      "text/plain": [
       "      publisher                                              title\n",
       "0      Livemint  fed's charles plosser sees high bar for change...\n",
       "1  IFA Magazine  us open: stocks fall after fed official hints ...\n",
       "2  IFA Magazine  fed risks falling 'behind the curve', charles ...\n",
       "3     Moneynews  fed's plosser: nasty weather has curbed job gr...\n",
       "4        NASDAQ  plosser: fed may have to accelerate tapering pace"
      ]
     },
     "execution_count": 2,
     "metadata": {},
     "output_type": "execute_result"
    }
   ],
   "source": [
    "import pandas as pd\n",
    "\n",
    "# Extract text column from a dataframe\n",
    "df = pd.read_csv(os.path.join(\"data\", \"news.csv\"))\n",
    "df.head()[['publisher', 'title']]\n",
    "\n",
    "# Convert text column to lowercase\n",
    "df['title'] = df['title'].str.lower()\n",
    "df.head()[['publisher', 'title']]"
   ]
  },
  {
   "cell_type": "markdown",
   "metadata": {},
   "source": [
    "### Online Resource"
   ]
  },
  {
   "cell_type": "code",
   "execution_count": 6,
   "metadata": {
    "scrolled": true
   },
   "outputs": [
    {
     "name": "stdout",
     "output_type": "stream",
     "text": [
      "{\n",
      "    \"success\": {\n",
      "        \"total\": 1\n",
      "    },\n",
      "    \"contents\": {\n",
      "        \"quotes\": [\n",
      "            {\n",
      "                \"quote\": \"Vulnerability is not winning or losing; it\\u2019s having the courage to show up and be seen when we have no control over the outcome.\",\n",
      "                \"length\": \"128\",\n",
      "                \"author\": \"Brene Brown\",\n",
      "                \"tags\": {\n",
      "                    \"0\": \"inspire\",\n",
      "                    \"2\": \"vulnerability\"\n",
      "                },\n",
      "                \"category\": \"inspire\",\n",
      "                \"language\": \"en\",\n",
      "                \"date\": \"2020-05-11\",\n",
      "                \"permalink\": \"https://theysaidso.com/quote/brene-brown-vulnerability-is-not-winning-or-losing-its-having-the-courage-to-sho\",\n",
      "                \"id\": \"2RtB_9exZs1JGG4vW1peHgeF\",\n",
      "                \"background\": \"https://theysaidso.com/img/qod/qod-inspire.jpg\",\n",
      "                \"title\": \"Inspiring Quote of the day\"\n",
      "            }\n",
      "        ]\n",
      "    },\n",
      "    \"baseurl\": \"https://theysaidso.com\",\n",
      "    \"copyright\": {\n",
      "        \"year\": 2022,\n",
      "        \"url\": \"https://theysaidso.com\"\n",
      "    }\n",
      "}\n",
      "Vulnerability is not winning or losing; it’s having the courage to show up and be seen when we have no control over the outcome. \n",
      "-- Brene Brown\n"
     ]
    }
   ],
   "source": [
    "import requests\n",
    "import json\n",
    "\n",
    "# Fetch data from a REST API\n",
    "r = requests.get(\n",
    "    \"https://quotes.rest/qod.json\")\n",
    "res = r.json()\n",
    "#print(res)#by me...............\n",
    "print(json.dumps(res, indent=4))\n",
    "\n",
    "# Extract relevant object and field\n",
    "q = res[\"contents\"][\"quotes\"][0]\n",
    "print(q[\"quote\"], \"\\n--\", q[\"author\"])"
   ]
  },
  {
   "cell_type": "markdown",
   "metadata": {},
   "source": [
    "## Cleaning"
   ]
  },
  {
   "cell_type": "code",
   "execution_count": 7,
   "metadata": {
    "scrolled": true
   },
   "outputs": [
    {
     "name": "stdout",
     "output_type": "stream",
     "text": [
      "<html lang=\"en\" op=\"news\"><head><meta name=\"referrer\" content=\"origin\"><meta name=\"viewport\" content=\"width=device-width, initial-scale=1.0\"><link rel=\"stylesheet\" type=\"text/css\" href=\"news.css?qgmUawbBF6R5AeIXHTFL\">\n",
      "        <link rel=\"shortcut icon\" href=\"favicon.ico\">\n",
      "          <link rel=\"alternate\" type=\"application/rss+xml\" title=\"RSS\" href=\"rss\">\n",
      "        <title>Hacker News</title></head><body><center><table id=\"hnmain\" border=\"0\" cellpadding=\"0\" cellspacing=\"0\" width=\"85%\" bgcolor=\"#f6f6ef\">\n",
      "        <tr><td bgcolor=\"#ff6600\"><table border=\"0\" cellpadding=\"0\" cellspacing=\"0\" width=\"100%\" style=\"padding:2px\"><tr><td style=\"width:18px;padding-right:4px\"><a href=\"https://news.ycombinator.com\"><img src=\"y18.gif\" width=\"18\" height=\"18\" style=\"border:1px white solid;\"></a></td>\n",
      "                  <td style=\"line-height:12pt; height:10px;\"><span class=\"pagetop\"><b class=\"hnname\"><a href=\"news\">Hacker News</a></b>\n",
      "              <a href=\"newest\">new</a> | <a href=\"front\">past</a> | <a href=\"newcomments\">comments</a> | <a href=\"ask\">ask</a> | <a href=\"show\">show</a> | <a href=\"jobs\">jobs</a> | <a href=\"submit\">submit</a>            </span></td><td style=\"text-align:right;padding-right:4px;\"><span class=\"pagetop\">\n",
      "                              <a href=\"login?goto=news\">login</a>\n",
      "                          </span></td>\n",
      "              </tr></table></td></tr>\n",
      "<tr id=\"pagespace\" title=\"\" style=\"height:10px\"></tr><tr><td><table border=\"0\" cellpadding=\"0\" cellspacing=\"0\" class=\"itemlist\">\n",
      "              <tr class='athing' id='23141353'>\n",
      "      <td align=\"right\" valign=\"top\" class=\"title\"><span class=\"rank\">1.</span></td>      <td valign=\"top\" class=\"votelinks\"><center><a id='up_23141353' href='vote?id=23141353&amp;how=up&amp;goto=news'><div class='votearrow' title='upvote'></div></a></center></td><td class=\"title\"><a href=\"https://www.mcls.io/blog/encouraging-a-culture-of-written-communication\" class=\"storylink\">Encouraging a Culture of Written Communication</a><span class=\"sitebit comhead\"> (<a href=\"from?site=mcls.io\"><span class=\"sitestr\">mcls.io</span></a>)</span></td></tr><tr><td colspan=\"2\"></td><td class=\"subtext\">\n",
      "        <span class=\"score\" id=\"score_23141353\">106 points</span> by <a href=\"user?id=quintencls\" class=\"hnuser\">quintencls</a> <span class=\"age\"><a href=\"item?id=23141353\">2 hours ago</a></span> <span id=\"unv_23141353\"></span> | <a href=\"hide?id=23141353&amp;goto=news\">hide</a> | <a href=\"item?id=23141353\">39&nbsp;comments</a>              </td></tr>\n",
      "      <tr class=\"spacer\" style=\"height:5px\"></tr>\n",
      "                <tr class='athing' id='23141191'>\n",
      "      <td align=\"right\" valign=\"top\" class=\"title\"><span class=\"rank\">2.</span></td>      <td valign=\"top\" class=\"votelinks\"><center><a id='up_23141191' href='vote?id=23141191&amp;how=up&amp;goto=news'><div class='votearrow' title='upvote'></div></a></center></td><td class=\"title\"><a href=\"https://teddykoker.com/2020/05/deep-learning-for-guitar-effect-emulation/\" class=\"storylink\">Deep Learning for Guitar Effect Emulation</a><span class=\"sitebit comhead\"> (<a href=\"from?site=teddykoker.com\"><span class=\"sitestr\">teddykoker.com</span></a>)</span></td></tr><tr><td colspan=\"2\"></td><td class=\"subtext\">\n",
      "        <span class=\"score\" id=\"score_23141191\">165 points</span> by <a href=\"user?id=teddykoker\" class=\"hnuser\">teddykoker</a> <span class=\"age\"><a href=\"item?id=23141191\">3 hours ago</a></span> <span id=\"unv_23141191\"></span> | <a href=\"hide?id=23141191&amp;goto=news\">hide</a> | <a href=\"item?id=23141191\">73&nbsp;comments</a>              </td></tr>\n",
      "      <tr class=\"spacer\" style=\"height:5px\"></tr>\n",
      "                <tr class='athing' id='23142220'>\n",
      "      <td align=\"right\" valign=\"top\" class=\"title\"><span class=\"rank\">3.</span></td>      <td valign=\"top\" class=\"votelinks\"><center><a id='up_23142220' href='vote?id=23142220&amp;how=up&amp;goto=news'><div class='votearrow' title='upvote'></div></a></center></td><td class=\"title\"><a href=\"https://www.benawad.com/scraping-recipe-websites/\" class=\"storylink\">Scraping Recipe Websites</a><span class=\"sitebit comhead\"> (<a href=\"from?site=benawad.com\"><span class=\"sitestr\">benawad.com</span></a>)</span></td></tr><tr><td colspan=\"2\"></td><td class=\"subtext\">\n",
      "        <span class=\"score\" id=\"score_23142220\">54 points</span> by <a href=\"user?id=benawad\" class=\"hnuser\">benawad</a> <span class=\"age\"><a href=\"item?id=23142220\">1 hour ago</a></span> <span id=\"unv_23142220\"></span> | <a href=\"hide?id=23142220&amp;goto=news\">hide</a> | <a href=\"item?id=23142220\">22&nbsp;comments</a>              </td></tr>\n",
      "      <tr class=\"spacer\" style=\"height:5px\"></tr>\n",
      "                <tr class='athing' id='23142322'>\n",
      "      <td align=\"right\" valign=\"top\" class=\"title\"><span class=\"rank\">4.</span></td>      <td valign=\"top\" class=\"votelinks\"><center><a id='up_23142322' href='vote?id=23142322&amp;how=up&amp;goto=news'><div class='votearrow' title='upvote'></div></a></center></td><td class=\"title\"><a href=\"https://www.infoq.com/presentations/power-144-chip/\" class=\"storylink\">Programming a 144-computer Chip to Minimize Power</a><span class=\"sitebit comhead\"> (<a href=\"from?site=infoq.com\"><span class=\"sitestr\">infoq.com</span></a>)</span></td></tr><tr><td colspan=\"2\"></td><td class=\"subtext\">\n",
      "        <span class=\"score\" id=\"score_23142322\">33 points</span> by <a href=\"user?id=colinprince\" class=\"hnuser\">colinprince</a> <span class=\"age\"><a href=\"item?id=23142322\">1 hour ago</a></span> <span id=\"unv_23142322\"></span> | <a href=\"hide?id=23142322&amp;goto=news\">hide</a> | <a href=\"item?id=23142322\">4&nbsp;comments</a>              </td></tr>\n",
      "      <tr class=\"spacer\" style=\"height:5px\"></tr>\n",
      "                <tr class='athing' id='23142831'>\n",
      "      <td align=\"right\" valign=\"top\" class=\"title\"><span class=\"rank\">5.</span></td>      <td valign=\"top\" class=\"votelinks\"><center><a id='up_23142831' href='vote?id=23142831&amp;how=up&amp;goto=news'><div class='votearrow' title='upvote'></div></a></center></td><td class=\"title\"><a href=\"item?id=23142831\" class=\"storylink\">Launch HN: Data Mechanics (YC S19) – The Simplest Way to Run Apache Spark</a></td></tr><tr><td colspan=\"2\"></td><td class=\"subtext\">\n",
      "        <span class=\"score\" id=\"score_23142831\">14 points</span> by <a href=\"user?id=jstephan\" class=\"hnuser\">jstephan</a> <span class=\"age\"><a href=\"item?id=23142831\">21 minutes ago</a></span> <span id=\"unv_23142831\"></span> | <a href=\"hide?id=23142831&amp;goto=news\">hide</a> | <a href=\"item?id=23142831\">discuss</a>              </td></tr>\n",
      "      <tr class=\"spacer\" style=\"height:5px\"></tr>\n",
      "                <tr class='athing' id='23140780'>\n",
      "      <td align=\"right\" valign=\"top\" class=\"title\"><span class=\"rank\">6.</span></td>      <td valign=\"top\" class=\"votelinks\"><center><a id='up_23140780' href='vote?id=23140780&amp;how=up&amp;goto=news'><div class='votearrow' title='upvote'></div></a></center></td><td class=\"title\"><a href=\"https://news.developer.nvidia.com/ray-tracing-essentials-part-7-denoising-for-ray-tracing/\" class=\"storylink\">Ray Tracing Essentials Part 7: Denoising for Ray Tracing</a><span class=\"sitebit comhead\"> (<a href=\"from?site=nvidia.com\"><span class=\"sitestr\">nvidia.com</span></a>)</span></td></tr><tr><td colspan=\"2\"></td><td class=\"subtext\">\n",
      "        <span class=\"score\" id=\"score_23140780\">80 points</span> by <a href=\"user?id=ibobev\" class=\"hnuser\">ibobev</a> <span class=\"age\"><a href=\"item?id=23140780\">4 hours ago</a></span> <span id=\"unv_23140780\"></span> | <a href=\"hide?id=23140780&amp;goto=news\">hide</a> | <a href=\"item?id=23140780\">44&nbsp;comments</a>              </td></tr>\n",
      "      <tr class=\"spacer\" style=\"height:5px\"></tr>\n",
      "                <tr class='athing' id='23142355'>\n",
      "      <td align=\"right\" valign=\"top\" class=\"title\"><span class=\"rank\">7.</span></td>      <td valign=\"top\" class=\"votelinks\"><center><a id='up_23142355' href='vote?id=23142355&amp;how=up&amp;goto=news'><div class='votearrow' title='upvote'></div></a></center></td><td class=\"title\"><a href=\"https://www.marketwatch.com/story/vacation-real-estate-markets-are-toast-because-of-the-pandemic-as-airbnb-owners-rush-to-offload-their-homes-redfin-ceo-says-2020-05-11?mod=home-page\" class=\"storylink\">Redfin: Vacation real-estate ‘toast’ as Airbnb owners rush to offload homes</a><span class=\"sitebit comhead\"> (<a href=\"from?site=marketwatch.com\"><span class=\"sitestr\">marketwatch.com</span></a>)</span></td></tr><tr><td colspan=\"2\"></td><td class=\"subtext\">\n",
      "        <span class=\"score\" id=\"score_23142355\">51 points</span> by <a href=\"user?id=pseudolus\" class=\"hnuser\">pseudolus</a> <span class=\"age\"><a href=\"item?id=23142355\">1 hour ago</a></span> <span id=\"unv_23142355\"></span> | <a href=\"hide?id=23142355&amp;goto=news\">hide</a> | <a href=\"item?id=23142355\">36&nbsp;comments</a>              </td></tr>\n",
      "      <tr class=\"spacer\" style=\"height:5px\"></tr>\n",
      "                <tr class='athing' id='23141392'>\n",
      "      <td align=\"right\" valign=\"top\" class=\"title\"><span class=\"rank\">8.</span></td>      <td valign=\"top\" class=\"votelinks\"><center><a id='up_23141392' href='vote?id=23141392&amp;how=up&amp;goto=news'><div class='votearrow' title='upvote'></div></a></center></td><td class=\"title\"><a href=\"https://www.youtube.com/channel/UCFFeNyzCEQDS4KCecugmotg/videos\" class=\"storylink\">The Power of Prolog [video]</a><span class=\"sitebit comhead\"> (<a href=\"from?site=youtube.com\"><span class=\"sitestr\">youtube.com</span></a>)</span></td></tr><tr><td colspan=\"2\"></td><td class=\"subtext\">\n",
      "        <span class=\"score\" id=\"score_23141392\">34 points</span> by <a href=\"user?id=lelf\" class=\"hnuser\">lelf</a> <span class=\"age\"><a href=\"item?id=23141392\">2 hours ago</a></span> <span id=\"unv_23141392\"></span> | <a href=\"hide?id=23141392&amp;goto=news\">hide</a> | <a href=\"item?id=23141392\">3&nbsp;comments</a>              </td></tr>\n",
      "      <tr class=\"spacer\" style=\"height:5px\"></tr>\n",
      "                <tr class='athing' id='23141148'>\n",
      "      <td align=\"right\" valign=\"top\" class=\"title\"><span class=\"rank\">9.</span></td>      <td valign=\"top\" class=\"votelinks\"><center><a id='up_23141148' href='vote?id=23141148&amp;how=up&amp;goto=news'><div class='votearrow' title='upvote'></div></a></center></td><td class=\"title\"><a href=\"https://showcase.metamate.io/hackernews-user-activity\" class=\"storylink\">Show HN: Visualize your HackerNews Activity</a><span class=\"sitebit comhead\"> (<a href=\"from?site=metamate.io\"><span class=\"sitestr\">metamate.io</span></a>)</span></td></tr><tr><td colspan=\"2\"></td><td class=\"subtext\">\n",
      "        <span class=\"score\" id=\"score_23141148\">45 points</span> by <a href=\"user?id=21stio\" class=\"hnuser\">21stio</a> <span class=\"age\"><a href=\"item?id=23141148\">3 hours ago</a></span> <span id=\"unv_23141148\"></span> | <a href=\"hide?id=23141148&amp;goto=news\">hide</a> | <a href=\"item?id=23141148\">14&nbsp;comments</a>              </td></tr>\n",
      "      <tr class=\"spacer\" style=\"height:5px\"></tr>\n",
      "                <tr class='athing' id='23138507'>\n",
      "      <td align=\"right\" valign=\"top\" class=\"title\"><span class=\"rank\">10.</span></td>      <td valign=\"top\" class=\"votelinks\"><center><a id='up_23138507' href='vote?id=23138507&amp;how=up&amp;goto=news'><div class='votearrow' title='upvote'></div></a></center></td><td class=\"title\"><a href=\"https://github.com/hediet/vscode-drawio\" class=\"storylink\">Create Diagrams in VS Code with Draw.io</a><span class=\"sitebit comhead\"> (<a href=\"from?site=github.com\"><span class=\"sitestr\">github.com</span></a>)</span></td></tr><tr><td colspan=\"2\"></td><td class=\"subtext\">\n",
      "        <span class=\"score\" id=\"score_23138507\">484 points</span> by <a href=\"user?id=sharjeelsayed\" class=\"hnuser\">sharjeelsayed</a> <span class=\"age\"><a href=\"item?id=23138507\">12 hours ago</a></span> <span id=\"unv_23138507\"></span> | <a href=\"hide?id=23138507&amp;goto=news\">hide</a> | <a href=\"item?id=23138507\">94&nbsp;comments</a>              </td></tr>\n",
      "      <tr class=\"spacer\" style=\"height:5px\"></tr>\n",
      "                <tr class='athing' id='23140334'>\n",
      "      <td align=\"right\" valign=\"top\" class=\"title\"><span class=\"rank\">11.</span></td>      <td valign=\"top\" class=\"votelinks\"><center><a id='up_23140334' href='vote?id=23140334&amp;how=up&amp;goto=news'><div class='votearrow' title='upvote'></div></a></center></td><td class=\"title\"><a href=\"https://onlinelibrary.wiley.com/doi/10.1002/andp.202000033\" class=\"storylink\">If you overlay all atomic spectra, you get a Planck distribution</a><span class=\"sitebit comhead\"> (<a href=\"from?site=wiley.com\"><span class=\"sitestr\">wiley.com</span></a>)</span></td></tr><tr><td colspan=\"2\"></td><td class=\"subtext\">\n",
      "        <span class=\"score\" id=\"score_23140334\">73 points</span> by <a href=\"user?id=hakmem\" class=\"hnuser\">hakmem</a> <span class=\"age\"><a href=\"item?id=23140334\">5 hours ago</a></span> <span id=\"unv_23140334\"></span> | <a href=\"hide?id=23140334&amp;goto=news\">hide</a> | <a href=\"item?id=23140334\">33&nbsp;comments</a>              </td></tr>\n",
      "      <tr class=\"spacer\" style=\"height:5px\"></tr>\n",
      "                <tr class='athing' id='23137345'>\n",
      "      <td align=\"right\" valign=\"top\" class=\"title\"><span class=\"rank\">12.</span></td>      <td valign=\"top\" class=\"votelinks\"><center><a id='up_23137345' href='vote?id=23137345&amp;how=up&amp;goto=news'><div class='votearrow' title='upvote'></div></a></center></td><td class=\"title\"><a href=\"https://nikic.github.io/2020/05/10/Make-LLVM-fast-again.html\" class=\"storylink\">Make LLVM Fast Again</a><span class=\"sitebit comhead\"> (<a href=\"from?site=nikic.github.io\"><span class=\"sitestr\">nikic.github.io</span></a>)</span></td></tr><tr><td colspan=\"2\"></td><td class=\"subtext\">\n",
      "        <span class=\"score\" id=\"score_23137345\">534 points</span> by <a href=\"user?id=notriddle\" class=\"hnuser\">notriddle</a> <span class=\"age\"><a href=\"item?id=23137345\">15 hours ago</a></span> <span id=\"unv_23137345\"></span> | <a href=\"hide?id=23137345&amp;goto=news\">hide</a> | <a href=\"item?id=23137345\">201&nbsp;comments</a>              </td></tr>\n",
      "      <tr class=\"spacer\" style=\"height:5px\"></tr>\n",
      "                <tr class='athing' id='23138297'>\n",
      "      <td align=\"right\" valign=\"top\" class=\"title\"><span class=\"rank\">13.</span></td>      <td valign=\"top\" class=\"votelinks\"><center><a id='up_23138297' href='vote?id=23138297&amp;how=up&amp;goto=news'><div class='votearrow' title='upvote'></div></a></center></td><td class=\"title\"><a href=\"https://www.neilwithdata.com/advanced-sql\" class=\"storylink\">Advanced SQL and database books and resources</a><span class=\"sitebit comhead\"> (<a href=\"from?site=neilwithdata.com\"><span class=\"sitestr\">neilwithdata.com</span></a>)</span></td></tr><tr><td colspan=\"2\"></td><td class=\"subtext\">\n",
      "        <span class=\"score\" id=\"score_23138297\">268 points</span> by <a href=\"user?id=eatonphil\" class=\"hnuser\">eatonphil</a> <span class=\"age\"><a href=\"item?id=23138297\">12 hours ago</a></span> <span id=\"unv_23138297\"></span> | <a href=\"hide?id=23138297&amp;goto=news\">hide</a> | <a href=\"item?id=23138297\">32&nbsp;comments</a>              </td></tr>\n",
      "      <tr class=\"spacer\" style=\"height:5px\"></tr>\n",
      "                <tr class='athing' id='23141346'>\n",
      "      <td align=\"right\" valign=\"top\" class=\"title\"><span class=\"rank\">14.</span></td>      <td valign=\"top\" class=\"votelinks\"><center><a id='up_23141346' href='vote?id=23141346&amp;how=up&amp;goto=news'><div class='votearrow' title='upvote'></div></a></center></td><td class=\"title\"><a href=\"https://www.ezralafleur.com/programming-steve-reichs-piano-phase-in-supercollider/\" class=\"storylink\">Programming Steve Reich’s Piano Phase in SuperCollider</a><span class=\"sitebit comhead\"> (<a href=\"from?site=ezralafleur.com\"><span class=\"sitestr\">ezralafleur.com</span></a>)</span></td></tr><tr><td colspan=\"2\"></td><td class=\"subtext\">\n",
      "        <span class=\"score\" id=\"score_23141346\">18 points</span> by <a href=\"user?id=ezralafleur\" class=\"hnuser\">ezralafleur</a> <span class=\"age\"><a href=\"item?id=23141346\">2 hours ago</a></span> <span id=\"unv_23141346\"></span> | <a href=\"hide?id=23141346&amp;goto=news\">hide</a> | <a href=\"item?id=23141346\">2&nbsp;comments</a>              </td></tr>\n",
      "      <tr class=\"spacer\" style=\"height:5px\"></tr>\n",
      "                <tr class='athing' id='23141073'>\n",
      "      <td align=\"right\" valign=\"top\" class=\"title\"><span class=\"rank\">15.</span></td>      <td valign=\"top\" class=\"votelinks\"><center><a id='up_23141073' href='vote?id=23141073&amp;how=up&amp;goto=news'><div class='votearrow' title='upvote'></div></a></center></td><td class=\"title\"><a href=\"https://mechanical-sympathy.blogspot.com/2011/09/single-writer-principle.html\" class=\"storylink\">Single Writer Principle (2011)</a><span class=\"sitebit comhead\"> (<a href=\"from?site=mechanical-sympathy.blogspot.com\"><span class=\"sitestr\">mechanical-sympathy.blogspot.com</span></a>)</span></td></tr><tr><td colspan=\"2\"></td><td class=\"subtext\">\n",
      "        <span class=\"score\" id=\"score_23141073\">17 points</span> by <a href=\"user?id=jorangreef\" class=\"hnuser\">jorangreef</a> <span class=\"age\"><a href=\"item?id=23141073\">3 hours ago</a></span> <span id=\"unv_23141073\"></span> | <a href=\"hide?id=23141073&amp;goto=news\">hide</a> | <a href=\"item?id=23141073\">1&nbsp;comment</a>              </td></tr>\n",
      "      <tr class=\"spacer\" style=\"height:5px\"></tr>\n",
      "                <tr class='athing' id='23141667'>\n",
      "      <td align=\"right\" valign=\"top\" class=\"title\"><span class=\"rank\">16.</span></td>      <td valign=\"top\" class=\"votelinks\"><center><a id='up_23141667' href='vote?id=23141667&amp;how=up&amp;goto=news'><div class='votearrow' title='upvote'></div></a></center></td><td class=\"title\"><a href=\"https://www.crowdsupply.com/mnt/reform\" class=\"storylink\">The open source DIY laptop for hacking, customization, and privacy</a><span class=\"sitebit comhead\"> (<a href=\"from?site=crowdsupply.com\"><span class=\"sitestr\">crowdsupply.com</span></a>)</span></td></tr><tr><td colspan=\"2\"></td><td class=\"subtext\">\n",
      "        <span class=\"score\" id=\"score_23141667\">38 points</span> by <a href=\"user?id=doener\" class=\"hnuser\">doener</a> <span class=\"age\"><a href=\"item?id=23141667\">2 hours ago</a></span> <span id=\"unv_23141667\"></span> | <a href=\"hide?id=23141667&amp;goto=news\">hide</a> | <a href=\"item?id=23141667\">10&nbsp;comments</a>              </td></tr>\n",
      "      <tr class=\"spacer\" style=\"height:5px\"></tr>\n",
      "                <tr class='athing' id='23132387'>\n",
      "      <td align=\"right\" valign=\"top\" class=\"title\"><span class=\"rank\">17.</span></td>      <td valign=\"top\" class=\"votelinks\"><center><a id='up_23132387' href='vote?id=23132387&amp;how=up&amp;goto=news'><div class='votearrow' title='upvote'></div></a></center></td><td class=\"title\"><a href=\"https://www.philosophicalhacker.com/post/data-point-for-job-seeking-devs/\" class=\"storylink\">My Mid-Career Job-Hunt: A Data Point for Job-Seeking Devs</a><span class=\"sitebit comhead\"> (<a href=\"from?site=philosophicalhacker.com\"><span class=\"sitestr\">philosophicalhacker.com</span></a>)</span></td></tr><tr><td colspan=\"2\"></td><td class=\"subtext\">\n",
      "        <span class=\"score\" id=\"score_23132387\">290 points</span> by <a href=\"user?id=luu\" class=\"hnuser\">luu</a> <span class=\"age\"><a href=\"item?id=23132387\">15 hours ago</a></span> <span id=\"unv_23132387\"></span> | <a href=\"hide?id=23132387&amp;goto=news\">hide</a> | <a href=\"item?id=23132387\">222&nbsp;comments</a>              </td></tr>\n",
      "      <tr class=\"spacer\" style=\"height:5px\"></tr>\n",
      "                <tr class='athing' id='23139819'>\n",
      "      <td align=\"right\" valign=\"top\" class=\"title\"><span class=\"rank\">18.</span></td>      <td valign=\"top\" class=\"votelinks\"><center><a id='up_23139819' href='vote?id=23139819&amp;how=up&amp;goto=news'><div class='votearrow' title='upvote'></div></a></center></td><td class=\"title\"><a href=\"https://podcast.coreygarvey.com/2020/05/11/comfortable-with-uncomfortable/\" class=\"storylink\">Comfortable with Uncomfortable</a><span class=\"sitebit comhead\"> (<a href=\"from?site=coreygarvey.com\"><span class=\"sitestr\">coreygarvey.com</span></a>)</span></td></tr><tr><td colspan=\"2\"></td><td class=\"subtext\">\n",
      "        <span class=\"score\" id=\"score_23139819\">43 points</span> by <a href=\"user?id=coreygarvey\" class=\"hnuser\">coreygarvey</a> <span class=\"age\"><a href=\"item?id=23139819\">7 hours ago</a></span> <span id=\"unv_23139819\"></span> | <a href=\"hide?id=23139819&amp;goto=news\">hide</a> | <a href=\"item?id=23139819\">6&nbsp;comments</a>              </td></tr>\n",
      "      <tr class=\"spacer\" style=\"height:5px\"></tr>\n",
      "                <tr class='athing' id='23140169'>\n",
      "      <td align=\"right\" valign=\"top\" class=\"title\"><span class=\"rank\">19.</span></td>      <td valign=\"top\" class=\"votelinks\"><center><a id='up_23140169' href='vote?id=23140169&amp;how=up&amp;goto=news'><div class='votearrow' title='upvote'></div></a></center></td><td class=\"title\"><a href=\"https://techcrunch.com/2020/05/08/microsoft-surface-go-2-review/\" class=\"storylink\">Microsoft Surface Go 2 review</a><span class=\"sitebit comhead\"> (<a href=\"from?site=techcrunch.com\"><span class=\"sitestr\">techcrunch.com</span></a>)</span></td></tr><tr><td colspan=\"2\"></td><td class=\"subtext\">\n",
      "        <span class=\"score\" id=\"score_23140169\">78 points</span> by <a href=\"user?id=makaroni1\" class=\"hnuser\">makaroni1</a> <span class=\"age\"><a href=\"item?id=23140169\">6 hours ago</a></span> <span id=\"unv_23140169\"></span> | <a href=\"hide?id=23140169&amp;goto=news\">hide</a> | <a href=\"item?id=23140169\">129&nbsp;comments</a>              </td></tr>\n",
      "      <tr class=\"spacer\" style=\"height:5px\"></tr>\n",
      "                <tr class='athing' id='23140513'>\n",
      "      <td align=\"right\" valign=\"top\" class=\"title\"><span class=\"rank\">20.</span></td>      <td valign=\"top\" class=\"votelinks\"><center><a id='up_23140513' href='vote?id=23140513&amp;how=up&amp;goto=news'><div class='votearrow' title='upvote'></div></a></center></td><td class=\"title\"><a href=\"http://nautil.us/issue/22/slow/a-photographer-who-tinkers-with-time\" class=\"storylink\" rel=\"nofollow\">A Photographer Who Tinkers with Time (2015)</a><span class=\"sitebit comhead\"> (<a href=\"from?site=nautil.us\"><span class=\"sitestr\">nautil.us</span></a>)</span></td></tr><tr><td colspan=\"2\"></td><td class=\"subtext\">\n",
      "        <span class=\"score\" id=\"score_23140513\">3 points</span> by <a href=\"user?id=dnetesn\" class=\"hnuser\">dnetesn</a> <span class=\"age\"><a href=\"item?id=23140513\">2 hours ago</a></span> <span id=\"unv_23140513\"></span> | <a href=\"hide?id=23140513&amp;goto=news\">hide</a> | <a href=\"item?id=23140513\">discuss</a>              </td></tr>\n",
      "      <tr class=\"spacer\" style=\"height:5px\"></tr>\n",
      "                <tr class='athing' id='23142590'>\n",
      "      <td align=\"right\" valign=\"top\" class=\"title\"><span class=\"rank\">21.</span></td>      <td valign=\"top\" class=\"votelinks\"><center><a id='up_23142590' href='vote?id=23142590&amp;how=up&amp;goto=news'><div class='votearrow' title='upvote'></div></a></center></td><td class=\"title\"><a href=\"https://massivesci.com/notes/gut-brain-axis-sugar-microbiome/\" class=\"storylink\" rel=\"nofollow\">Got a sweet tooth? Your gut bacteria are asking for some sugar</a><span class=\"sitebit comhead\"> (<a href=\"from?site=massivesci.com\"><span class=\"sitestr\">massivesci.com</span></a>)</span></td></tr><tr><td colspan=\"2\"></td><td class=\"subtext\">\n",
      "        <span class=\"score\" id=\"score_23142590\">8 points</span> by <a href=\"user?id=dazosan\" class=\"hnuser\">dazosan</a> <span class=\"age\"><a href=\"item?id=23142590\">43 minutes ago</a></span> <span id=\"unv_23142590\"></span> | <a href=\"hide?id=23142590&amp;goto=news\">hide</a> | <a href=\"item?id=23142590\">discuss</a>              </td></tr>\n",
      "      <tr class=\"spacer\" style=\"height:5px\"></tr>\n",
      "                <tr class='athing' id='23138476'>\n",
      "      <td align=\"right\" valign=\"top\" class=\"title\"><span class=\"rank\">22.</span></td>      <td valign=\"top\" class=\"votelinks\"><center><a id='up_23138476' href='vote?id=23138476&amp;how=up&amp;goto=news'><div class='votearrow' title='upvote'></div></a></center></td><td class=\"title\"><a href=\"https://gifrun.com\" class=\"storylink\">Show HN: Create high resolution GIFs from YouTube</a><span class=\"sitebit comhead\"> (<a href=\"from?site=gifrun.com\"><span class=\"sitestr\">gifrun.com</span></a>)</span></td></tr><tr><td colspan=\"2\"></td><td class=\"subtext\">\n",
      "        <span class=\"score\" id=\"score_23138476\">66 points</span> by <a href=\"user?id=builderone\" class=\"hnuser\">builderone</a> <span class=\"age\"><a href=\"item?id=23138476\">12 hours ago</a></span> <span id=\"unv_23138476\"></span> | <a href=\"hide?id=23138476&amp;goto=news\">hide</a> | <a href=\"item?id=23138476\">30&nbsp;comments</a>              </td></tr>\n",
      "      <tr class=\"spacer\" style=\"height:5px\"></tr>\n",
      "                <tr class='athing' id='23138131'>\n",
      "      <td align=\"right\" valign=\"top\" class=\"title\"><span class=\"rank\">23.</span></td>      <td valign=\"top\" class=\"votelinks\"><center><a id='up_23138131' href='vote?id=23138131&amp;how=up&amp;goto=news'><div class='votearrow' title='upvote'></div></a></center></td><td class=\"title\"><a href=\"https://github.com/askmeegs/learn-istio\" class=\"storylink\">Learn Istio: A Service Mesh and Istio Resource List</a><span class=\"sitebit comhead\"> (<a href=\"from?site=github.com\"><span class=\"sitestr\">github.com</span></a>)</span></td></tr><tr><td colspan=\"2\"></td><td class=\"subtext\">\n",
      "        <span class=\"score\" id=\"score_23138131\">86 points</span> by <a href=\"user?id=signaltonoise\" class=\"hnuser\">signaltonoise</a> <span class=\"age\"><a href=\"item?id=23138131\">13 hours ago</a></span> <span id=\"unv_23138131\"></span> | <a href=\"hide?id=23138131&amp;goto=news\">hide</a> | <a href=\"item?id=23138131\">12&nbsp;comments</a>              </td></tr>\n",
      "      <tr class=\"spacer\" style=\"height:5px\"></tr>\n",
      "                <tr class='athing' id='23141830'>\n",
      "      <td align=\"right\" valign=\"top\" class=\"title\"><span class=\"rank\">24.</span></td>      <td valign=\"top\" class=\"votelinks\"><center><a id='up_23141830' href='vote?id=23141830&amp;how=up&amp;goto=news'><div class='votearrow' title='upvote'></div></a></center></td><td class=\"title\"><a href=\"https://blogmaverick.com/2020/05/07/i-hired-a-team-of-secret-shoppers-to-find-out-how-businesses-were-opening-in-dallas-its-not-good/\" class=\"storylink\">I hired a team of shoppers to find out how businesses were opening in Dallas</a><span class=\"sitebit comhead\"> (<a href=\"from?site=blogmaverick.com\"><span class=\"sitestr\">blogmaverick.com</span></a>)</span></td></tr><tr><td colspan=\"2\"></td><td class=\"subtext\">\n",
      "        <span class=\"score\" id=\"score_23141830\">90 points</span> by <a href=\"user?id=laura2013\" class=\"hnuser\">laura2013</a> <span class=\"age\"><a href=\"item?id=23141830\">1 hour ago</a></span> <span id=\"unv_23141830\"></span> | <a href=\"hide?id=23141830&amp;goto=news\">hide</a> | <a href=\"item?id=23141830\">86&nbsp;comments</a>              </td></tr>\n",
      "      <tr class=\"spacer\" style=\"height:5px\"></tr>\n",
      "                <tr class='athing' id='23139686'>\n",
      "      <td align=\"right\" valign=\"top\" class=\"title\"><span class=\"rank\">25.</span></td>      <td valign=\"top\" class=\"votelinks\"><center><a id='up_23139686' href='vote?id=23139686&amp;how=up&amp;goto=news'><div class='votearrow' title='upvote'></div></a></center></td><td class=\"title\"><a href=\"https://www.youtube.com/watch?v=FycDx69px8U\" class=\"storylink\">My robotic basketball hoop won't let you miss [video]</a><span class=\"sitebit comhead\"> (<a href=\"from?site=youtube.com\"><span class=\"sitestr\">youtube.com</span></a>)</span></td></tr><tr><td colspan=\"2\"></td><td class=\"subtext\">\n",
      "        <span class=\"score\" id=\"score_23139686\">169 points</span> by <a href=\"user?id=o10449366\" class=\"hnuser\">o10449366</a> <span class=\"age\"><a href=\"item?id=23139686\">7 hours ago</a></span> <span id=\"unv_23139686\"></span> | <a href=\"hide?id=23139686&amp;goto=news\">hide</a> | <a href=\"item?id=23139686\">30&nbsp;comments</a>              </td></tr>\n",
      "      <tr class=\"spacer\" style=\"height:5px\"></tr>\n",
      "                <tr class='athing' id='23137979'>\n",
      "      <td align=\"right\" valign=\"top\" class=\"title\"><span class=\"rank\">26.</span></td>      <td valign=\"top\" class=\"votelinks\"><center><a id='up_23137979' href='vote?id=23137979&amp;how=up&amp;goto=news'><div class='votearrow' title='upvote'></div></a></center></td><td class=\"title\"><a href=\"https://thunderspy.io/\" class=\"storylink\">When Lightning Strikes Thrice: Breaking Thunderbolt 3 Security</a><span class=\"sitebit comhead\"> (<a href=\"from?site=thunderspy.io\"><span class=\"sitestr\">thunderspy.io</span></a>)</span></td></tr><tr><td colspan=\"2\"></td><td class=\"subtext\">\n",
      "        <span class=\"score\" id=\"score_23137979\">94 points</span> by <a href=\"user?id=dafrankenstein2\" class=\"hnuser\">dafrankenstein2</a> <span class=\"age\"><a href=\"item?id=23137979\">13 hours ago</a></span> <span id=\"unv_23137979\"></span> | <a href=\"hide?id=23137979&amp;goto=news\">hide</a> | <a href=\"item?id=23137979\">61&nbsp;comments</a>              </td></tr>\n",
      "      <tr class=\"spacer\" style=\"height:5px\"></tr>\n",
      "                <tr class='athing' id='23135177'>\n",
      "      <td align=\"right\" valign=\"top\" class=\"title\"><span class=\"rank\">27.</span></td>      <td valign=\"top\" class=\"votelinks\"><center><a id='up_23135177' href='vote?id=23135177&amp;how=up&amp;goto=news'><div class='votearrow' title='upvote'></div></a></center></td><td class=\"title\"><a href=\"https://imgur.com/a/hdWw4ds\" class=\"storylink\">MS Flight Simulator 2020 vs. Real life</a><span class=\"sitebit comhead\"> (<a href=\"from?site=imgur.com\"><span class=\"sitestr\">imgur.com</span></a>)</span></td></tr><tr><td colspan=\"2\"></td><td class=\"subtext\">\n",
      "        <span class=\"score\" id=\"score_23135177\">633 points</span> by <a href=\"user?id=lelf\" class=\"hnuser\">lelf</a> <span class=\"age\"><a href=\"item?id=23135177\">20 hours ago</a></span> <span id=\"unv_23135177\"></span> | <a href=\"hide?id=23135177&amp;goto=news\">hide</a> | <a href=\"item?id=23135177\">231&nbsp;comments</a>              </td></tr>\n",
      "      <tr class=\"spacer\" style=\"height:5px\"></tr>\n",
      "                <tr class='athing' id='23139605'>\n",
      "      <td align=\"right\" valign=\"top\" class=\"title\"><span class=\"rank\">28.</span></td>      <td valign=\"top\" class=\"votelinks\"><center><a id='up_23139605' href='vote?id=23139605&amp;how=up&amp;goto=news'><div class='votearrow' title='upvote'></div></a></center></td><td class=\"title\"><a href=\"https://www.sciencemag.org/news/2020/04/how-does-coronavirus-kill-clinicians-trace-ferocious-rampage-through-body-brain-toes#\" class=\"storylink\">How does coronavirus kill? Clinicians trace a ferocious rampage through the body</a><span class=\"sitebit comhead\"> (<a href=\"from?site=sciencemag.org\"><span class=\"sitestr\">sciencemag.org</span></a>)</span></td></tr><tr><td colspan=\"2\"></td><td class=\"subtext\">\n",
      "        <span class=\"score\" id=\"score_23139605\">57 points</span> by <a href=\"user?id=doener\" class=\"hnuser\">doener</a> <span class=\"age\"><a href=\"item?id=23139605\">8 hours ago</a></span> <span id=\"unv_23139605\"></span> | <a href=\"hide?id=23139605&amp;goto=news\">hide</a> | <a href=\"item?id=23139605\">22&nbsp;comments</a>              </td></tr>\n",
      "      <tr class=\"spacer\" style=\"height:5px\"></tr>\n",
      "                <tr class='athing' id='23136688'>\n",
      "      <td align=\"right\" valign=\"top\" class=\"title\"><span class=\"rank\">29.</span></td>      <td valign=\"top\" class=\"votelinks\"><center><a id='up_23136688' href='vote?id=23136688&amp;how=up&amp;goto=news'><div class='votearrow' title='upvote'></div></a></center></td><td class=\"title\"><a href=\"https://macwright.org/2020/05/10/spa-fatigue.html\" class=\"storylink\">Second-Guessing the Modern Web</a><span class=\"sitebit comhead\"> (<a href=\"from?site=macwright.org\"><span class=\"sitestr\">macwright.org</span></a>)</span></td></tr><tr><td colspan=\"2\"></td><td class=\"subtext\">\n",
      "        <span class=\"score\" id=\"score_23136688\">604 points</span> by <a href=\"user?id=erict15\" class=\"hnuser\">erict15</a> <span class=\"age\"><a href=\"item?id=23136688\">17 hours ago</a></span> <span id=\"unv_23136688\"></span> | <a href=\"hide?id=23136688&amp;goto=news\">hide</a> | <a href=\"item?id=23136688\">378&nbsp;comments</a>              </td></tr>\n",
      "      <tr class=\"spacer\" style=\"height:5px\"></tr>\n",
      "                <tr class='athing' id='23140328'>\n",
      "      <td align=\"right\" valign=\"top\" class=\"title\"><span class=\"rank\">30.</span></td>      <td valign=\"top\" class=\"votelinks\"><center><a id='up_23140328' href='vote?id=23140328&amp;how=up&amp;goto=news'><div class='votearrow' title='upvote'></div></a></center></td><td class=\"title\"><a href=\"https://www.lighttag.io/blog/active-learning-manager/\" class=\"storylink\" rel=\"nofollow\">Show HN: ALMa – Active Learning Data Manager</a><span class=\"sitebit comhead\"> (<a href=\"from?site=lighttag.io\"><span class=\"sitestr\">lighttag.io</span></a>)</span></td></tr><tr><td colspan=\"2\"></td><td class=\"subtext\">\n",
      "        <span class=\"score\" id=\"score_23140328\">7 points</span> by <a href=\"user?id=talolard\" class=\"hnuser\">talolard</a> <span class=\"age\"><a href=\"item?id=23140328\">5 hours ago</a></span> <span id=\"unv_23140328\"></span> | <a href=\"hide?id=23140328&amp;goto=news\">hide</a> | <a href=\"item?id=23140328\">discuss</a>              </td></tr>\n",
      "      <tr class=\"spacer\" style=\"height:5px\"></tr>\n",
      "            <tr class=\"morespace\" style=\"height:10px\"></tr><tr><td colspan=\"2\"></td><td class=\"title\"><a href=\"news?p=2\" class=\"morelink\" rel=\"next\">More</a></td></tr>\n",
      "  </table>\n",
      "</td></tr>\n",
      "<tr><td><img src=\"s.gif\" height=\"10\" width=\"0\"><table width=\"100%\" cellspacing=\"0\" cellpadding=\"1\"><tr><td bgcolor=\"#ff6600\"></td></tr></table><br><center><span class=\"yclinks\"><a href=\"newsguidelines.html\">Guidelines</a>\n",
      "        | <a href=\"newsfaq.html\">FAQ</a>\n",
      "        | <a href=\"mailto:hn@ycombinator.com\">Support</a>\n",
      "        | <a href=\"https://github.com/HackerNews/API\">API</a>\n",
      "        | <a href=\"security.html\">Security</a>\n",
      "        | <a href=\"lists\">Lists</a>\n",
      "        | <a href=\"bookmarklet.html\" rel=\"nofollow\">Bookmarklet</a>\n",
      "        | <a href=\"http://www.ycombinator.com/legal/\">Legal</a>\n",
      "        | <a href=\"http://www.ycombinator.com/apply/\">Apply to YC</a>\n",
      "        | <a href=\"mailto:hn@ycombinator.com\">Contact</a></span><br><br><form method=\"get\" action=\"//hn.algolia.com/\">Search:\n",
      "          <input type=\"text\" name=\"q\" value=\"\" size=\"17\" autocorrect=\"off\" spellcheck=\"false\" autocapitalize=\"off\" autocomplete=\"false\"></form>\n",
      "            </center></td></tr>\n",
      "      </table></center></body><script type='text/javascript' src='hn.js?qgmUawbBF6R5AeIXHTFL'></script></html>\n",
      "\n"
     ]
    }
   ],
   "source": [
    "import requests\n",
    "\n",
    "# Fetch a web page\n",
    "r = requests.get(\"https://news.ycombinator.com\")\n",
    "print(r.text)"
   ]
  },
  {
   "cell_type": "code",
   "execution_count": 8,
   "metadata": {},
   "outputs": [
    {
     "name": "stdout",
     "output_type": "stream",
     "text": [
      "\n",
      "        \n",
      "          \n",
      "        Hacker News\n",
      "        \n",
      "                  Hacker News\n",
      "              new | past | comments | ask | show | jobs | submit            \n",
      "                              login\n",
      "                          \n",
      "              \n",
      "\n",
      "              \n",
      "      1.      Encouraging a Culture of Written Communication (mcls.io)\n",
      "        106 points by quintencls 2 hours ago  | hide | 39&nbsp;comments              \n",
      "      \n",
      "                \n",
      "      2.      Deep Learning for Guitar Effect Emulation (teddykoker.com)\n",
      "        165 points by teddykoker 3 hours ago  | hide | 73&nbsp;comments              \n",
      "      \n",
      "                \n",
      "      3.      Scraping Recipe Websites (benawad.com)\n",
      "        54 points by benawad 1 hour ago  | hide | 22&nbsp;comments              \n",
      "      \n",
      "                \n",
      "      4.      Programming a 144-computer Chip to Minimize Power (infoq.com)\n",
      "        33 points by colinprince 1 hour ago  | hide | 4&nbsp;comments              \n",
      "      \n",
      "                \n",
      "      5.      Launch HN: Data Mechanics (YC S19) – The Simplest Way to Run Apache Spark\n",
      "        14 points by jstephan 21 minutes ago  | hide | discuss              \n",
      "      \n",
      "                \n",
      "      6.      Ray Tracing Essentials Part 7: Denoising for Ray Tracing (nvidia.com)\n",
      "        80 points by ibobev 4 hours ago  | hide | 44&nbsp;comments              \n",
      "      \n",
      "                \n",
      "      7.      Redfin: Vacation real-estate ‘toast’ as Airbnb owners rush to offload homes (marketwatch.com)\n",
      "        51 points by pseudolus 1 hour ago  | hide | 36&nbsp;comments              \n",
      "      \n",
      "                \n",
      "      8.      The Power of Prolog [video] (youtube.com)\n",
      "        34 points by lelf 2 hours ago  | hide | 3&nbsp;comments              \n",
      "      \n",
      "                \n",
      "      9.      Show HN: Visualize your HackerNews Activity (metamate.io)\n",
      "        45 points by 21stio 3 hours ago  | hide | 14&nbsp;comments              \n",
      "      \n",
      "                \n",
      "      10.      Create Diagrams in VS Code with Draw.io (github.com)\n",
      "        484 points by sharjeelsayed 12 hours ago  | hide | 94&nbsp;comments              \n",
      "      \n",
      "                \n",
      "      11.      If you overlay all atomic spectra, you get a Planck distribution (wiley.com)\n",
      "        73 points by hakmem 5 hours ago  | hide | 33&nbsp;comments              \n",
      "      \n",
      "                \n",
      "      12.      Make LLVM Fast Again (nikic.github.io)\n",
      "        534 points by notriddle 15 hours ago  | hide | 201&nbsp;comments              \n",
      "      \n",
      "                \n",
      "      13.      Advanced SQL and database books and resources (neilwithdata.com)\n",
      "        268 points by eatonphil 12 hours ago  | hide | 32&nbsp;comments              \n",
      "      \n",
      "                \n",
      "      14.      Programming Steve Reich’s Piano Phase in SuperCollider (ezralafleur.com)\n",
      "        18 points by ezralafleur 2 hours ago  | hide | 2&nbsp;comments              \n",
      "      \n",
      "                \n",
      "      15.      Single Writer Principle (2011) (mechanical-sympathy.blogspot.com)\n",
      "        17 points by jorangreef 3 hours ago  | hide | 1&nbsp;comment              \n",
      "      \n",
      "                \n",
      "      16.      The open source DIY laptop for hacking, customization, and privacy (crowdsupply.com)\n",
      "        38 points by doener 2 hours ago  | hide | 10&nbsp;comments              \n",
      "      \n",
      "                \n",
      "      17.      My Mid-Career Job-Hunt: A Data Point for Job-Seeking Devs (philosophicalhacker.com)\n",
      "        290 points by luu 15 hours ago  | hide | 222&nbsp;comments              \n",
      "      \n",
      "                \n",
      "      18.      Comfortable with Uncomfortable (coreygarvey.com)\n",
      "        43 points by coreygarvey 7 hours ago  | hide | 6&nbsp;comments              \n",
      "      \n",
      "                \n",
      "      19.      Microsoft Surface Go 2 review (techcrunch.com)\n",
      "        78 points by makaroni1 6 hours ago  | hide | 129&nbsp;comments              \n",
      "      \n",
      "                \n",
      "      20.      A Photographer Who Tinkers with Time (2015) (nautil.us)\n",
      "        3 points by dnetesn 2 hours ago  | hide | discuss              \n",
      "      \n",
      "                \n",
      "      21.      Got a sweet tooth? Your gut bacteria are asking for some sugar (massivesci.com)\n",
      "        8 points by dazosan 43 minutes ago  | hide | discuss              \n",
      "      \n",
      "                \n",
      "      22.      Show HN: Create high resolution GIFs from YouTube (gifrun.com)\n",
      "        66 points by builderone 12 hours ago  | hide | 30&nbsp;comments              \n",
      "      \n",
      "                \n",
      "      23.      Learn Istio: A Service Mesh and Istio Resource List (github.com)\n",
      "        86 points by signaltonoise 13 hours ago  | hide | 12&nbsp;comments              \n",
      "      \n",
      "                \n",
      "      24.      I hired a team of shoppers to find out how businesses were opening in Dallas (blogmaverick.com)\n",
      "        90 points by laura2013 1 hour ago  | hide | 86&nbsp;comments              \n",
      "      \n",
      "                \n",
      "      25.      My robotic basketball hoop won't let you miss [video] (youtube.com)\n",
      "        169 points by o10449366 7 hours ago  | hide | 30&nbsp;comments              \n",
      "      \n",
      "                \n",
      "      26.      When Lightning Strikes Thrice: Breaking Thunderbolt 3 Security (thunderspy.io)\n",
      "        94 points by dafrankenstein2 13 hours ago  | hide | 61&nbsp;comments              \n",
      "      \n",
      "                \n",
      "      27.      MS Flight Simulator 2020 vs. Real life (imgur.com)\n",
      "        633 points by lelf 20 hours ago  | hide | 231&nbsp;comments              \n",
      "      \n",
      "                \n",
      "      28.      How does coronavirus kill? Clinicians trace a ferocious rampage through the body (sciencemag.org)\n",
      "        57 points by doener 8 hours ago  | hide | 22&nbsp;comments              \n",
      "      \n",
      "                \n",
      "      29.      Second-Guessing the Modern Web (macwright.org)\n",
      "        604 points by erict15 17 hours ago  | hide | 378&nbsp;comments              \n",
      "      \n",
      "                \n",
      "      30.      Show HN: ALMa – Active Learning Data Manager (lighttag.io)\n",
      "        7 points by talolard 5 hours ago  | hide | discuss              \n",
      "      \n",
      "            More\n",
      "  \n",
      "\n",
      "Guidelines\n",
      "        | FAQ\n",
      "        | Support\n",
      "        | API\n",
      "        | Security\n",
      "        | Lists\n",
      "        | Bookmarklet\n",
      "        | Legal\n",
      "        | Apply to YC\n",
      "        | ContactSearch:\n",
      "          \n",
      "            \n",
      "      \n",
      "\n"
     ]
    }
   ],
   "source": [
    "import re\n",
    "\n",
    "# Remove HTML tags using RegEx\n",
    "pattern = re.compile(r'<.*?>')  # tags look like <...>\n",
    "print(pattern.sub('', r.text))  # replace them with blank"
   ]
  },
  {
   "cell_type": "code",
   "execution_count": 9,
   "metadata": {},
   "outputs": [
    {
     "name": "stdout",
     "output_type": "stream",
     "text": [
      "\n",
      "        \n",
      "          \n",
      "        Hacker News\n",
      "        \n",
      "                  Hacker News\n",
      "              new | past | comments | ask | show | jobs | submit            \n",
      "                              login\n",
      "                          \n",
      "              \n",
      "\n",
      "              \n",
      "      1.      Encouraging a Culture of Written Communication (mcls.io)\n",
      "        106 points by quintencls 2 hours ago  | hide | 39 comments              \n",
      "      \n",
      "                \n",
      "      2.      Deep Learning for Guitar Effect Emulation (teddykoker.com)\n",
      "        165 points by teddykoker 3 hours ago  | hide | 73 comments              \n",
      "      \n",
      "                \n",
      "      3.      Scraping Recipe Websites (benawad.com)\n",
      "        54 points by benawad 1 hour ago  | hide | 22 comments              \n",
      "      \n",
      "                \n",
      "      4.      Programming a 144-computer Chip to Minimize Power (infoq.com)\n",
      "        33 points by colinprince 1 hour ago  | hide | 4 comments              \n",
      "      \n",
      "                \n",
      "      5.      Launch HN: Data Mechanics (YC S19) – The Simplest Way to Run Apache Spark\n",
      "        14 points by jstephan 21 minutes ago  | hide | discuss              \n",
      "      \n",
      "                \n",
      "      6.      Ray Tracing Essentials Part 7: Denoising for Ray Tracing (nvidia.com)\n",
      "        80 points by ibobev 4 hours ago  | hide | 44 comments              \n",
      "      \n",
      "                \n",
      "      7.      Redfin: Vacation real-estate ‘toast’ as Airbnb owners rush to offload homes (marketwatch.com)\n",
      "        51 points by pseudolus 1 hour ago  | hide | 36 comments              \n",
      "      \n",
      "                \n",
      "      8.      The Power of Prolog [video] (youtube.com)\n",
      "        34 points by lelf 2 hours ago  | hide | 3 comments              \n",
      "      \n",
      "                \n",
      "      9.      Show HN: Visualize your HackerNews Activity (metamate.io)\n",
      "        45 points by 21stio 3 hours ago  | hide | 14 comments              \n",
      "      \n",
      "                \n",
      "      10.      Create Diagrams in VS Code with Draw.io (github.com)\n",
      "        484 points by sharjeelsayed 12 hours ago  | hide | 94 comments              \n",
      "      \n",
      "                \n",
      "      11.      If you overlay all atomic spectra, you get a Planck distribution (wiley.com)\n",
      "        73 points by hakmem 5 hours ago  | hide | 33 comments              \n",
      "      \n",
      "                \n",
      "      12.      Make LLVM Fast Again (nikic.github.io)\n",
      "        534 points by notriddle 15 hours ago  | hide | 201 comments              \n",
      "      \n",
      "                \n",
      "      13.      Advanced SQL and database books and resources (neilwithdata.com)\n",
      "        268 points by eatonphil 12 hours ago  | hide | 32 comments              \n",
      "      \n",
      "                \n",
      "      14.      Programming Steve Reich’s Piano Phase in SuperCollider (ezralafleur.com)\n",
      "        18 points by ezralafleur 2 hours ago  | hide | 2 comments              \n",
      "      \n",
      "                \n",
      "      15.      Single Writer Principle (2011) (mechanical-sympathy.blogspot.com)\n",
      "        17 points by jorangreef 3 hours ago  | hide | 1 comment              \n",
      "      \n",
      "                \n",
      "      16.      The open source DIY laptop for hacking, customization, and privacy (crowdsupply.com)\n",
      "        38 points by doener 2 hours ago  | hide | 10 comments              \n",
      "      \n",
      "                \n",
      "      17.      My Mid-Career Job-Hunt: A Data Point for Job-Seeking Devs (philosophicalhacker.com)\n",
      "        290 points by luu 15 hours ago  | hide | 222 comments              \n",
      "      \n",
      "                \n",
      "      18.      Comfortable with Uncomfortable (coreygarvey.com)\n",
      "        43 points by coreygarvey 7 hours ago  | hide | 6 comments              \n",
      "      \n",
      "                \n",
      "      19.      Microsoft Surface Go 2 review (techcrunch.com)\n",
      "        78 points by makaroni1 6 hours ago  | hide | 129 comments              \n",
      "      \n",
      "                \n",
      "      20.      A Photographer Who Tinkers with Time (2015) (nautil.us)\n",
      "        3 points by dnetesn 2 hours ago  | hide | discuss              \n",
      "      \n",
      "                \n",
      "      21.      Got a sweet tooth? Your gut bacteria are asking for some sugar (massivesci.com)\n",
      "        8 points by dazosan 43 minutes ago  | hide | discuss              \n",
      "      \n",
      "                \n",
      "      22.      Show HN: Create high resolution GIFs from YouTube (gifrun.com)\n",
      "        66 points by builderone 12 hours ago  | hide | 30 comments              \n",
      "      \n",
      "                \n",
      "      23.      Learn Istio: A Service Mesh and Istio Resource List (github.com)\n",
      "        86 points by signaltonoise 13 hours ago  | hide | 12 comments              \n",
      "      \n",
      "                \n",
      "      24.      I hired a team of shoppers to find out how businesses were opening in Dallas (blogmaverick.com)\n",
      "        90 points by laura2013 1 hour ago  | hide | 86 comments              \n",
      "      \n",
      "                \n",
      "      25.      My robotic basketball hoop won't let you miss [video] (youtube.com)\n",
      "        169 points by o10449366 7 hours ago  | hide | 30 comments              \n",
      "      \n",
      "                \n",
      "      26.      When Lightning Strikes Thrice: Breaking Thunderbolt 3 Security (thunderspy.io)\n",
      "        94 points by dafrankenstein2 13 hours ago  | hide | 61 comments              \n",
      "      \n",
      "                \n",
      "      27.      MS Flight Simulator 2020 vs. Real life (imgur.com)\n",
      "        633 points by lelf 20 hours ago  | hide | 231 comments              \n",
      "      \n",
      "                \n",
      "      28.      How does coronavirus kill? Clinicians trace a ferocious rampage through the body (sciencemag.org)\n",
      "        57 points by doener 8 hours ago  | hide | 22 comments              \n",
      "      \n",
      "                \n",
      "      29.      Second-Guessing the Modern Web (macwright.org)\n",
      "        604 points by erict15 17 hours ago  | hide | 378 comments              \n",
      "      \n",
      "                \n",
      "      30.      Show HN: ALMa – Active Learning Data Manager (lighttag.io)\n",
      "        7 points by talolard 5 hours ago  | hide | discuss              \n",
      "      \n",
      "            More\n",
      "  \n",
      "\n",
      "Guidelines\n",
      "        | FAQ\n",
      "        | Support\n",
      "        | API\n",
      "        | Security\n",
      "        | Lists\n",
      "        | Bookmarklet\n",
      "        | Legal\n",
      "        | Apply to YC\n",
      "        | ContactSearch:\n",
      "          \n",
      "            \n",
      "      \n",
      "\n"
     ]
    }
   ],
   "source": [
    "from bs4 import BeautifulSoup\n",
    "\n",
    "# Remove HTML tags using Beautiful Soup library\n",
    "soup = BeautifulSoup(r.text, \"html5lib\")\n",
    "print(soup.get_text())"
   ]
  },
  {
   "cell_type": "code",
   "execution_count": 10,
   "metadata": {
    "scrolled": true
   },
   "outputs": [
    {
     "data": {
      "text/plain": [
       "<tr class=\"athing\" id=\"23141353\">\n",
       "      <td align=\"right\" class=\"title\" valign=\"top\"><span class=\"rank\">1.</span></td>      <td class=\"votelinks\" valign=\"top\"><center><a href=\"vote?id=23141353&amp;how=up&amp;goto=news\" id=\"up_23141353\"><div class=\"votearrow\" title=\"upvote\"></div></a></center></td><td class=\"title\"><a class=\"storylink\" href=\"https://www.mcls.io/blog/encouraging-a-culture-of-written-communication\">Encouraging a Culture of Written Communication</a><span class=\"sitebit comhead\"> (<a href=\"from?site=mcls.io\"><span class=\"sitestr\">mcls.io</span></a>)</span></td></tr>"
      ]
     },
     "execution_count": 10,
     "metadata": {},
     "output_type": "execute_result"
    }
   ],
   "source": [
    "# Find all articles\n",
    "summaries = soup.find_all(\"tr\", class_=\"athing\")\n",
    "summaries[0]"
   ]
  },
  {
   "cell_type": "code",
   "execution_count": 11,
   "metadata": {},
   "outputs": [
    {
     "data": {
      "text/plain": [
       "'Encouraging a Culture of Written Communication'"
      ]
     },
     "execution_count": 11,
     "metadata": {},
     "output_type": "execute_result"
    }
   ],
   "source": [
    "# Extract title\n",
    "summaries[0].find(\"a\", class_=\"storylink\").get_text().strip()"
   ]
  },
  {
   "cell_type": "code",
   "execution_count": 12,
   "metadata": {},
   "outputs": [
    {
     "name": "stdout",
     "output_type": "stream",
     "text": [
      "30 Article summaries found. Sample:\n",
      "Encouraging a Culture of Written Communication\n"
     ]
    }
   ],
   "source": [
    "# Find all articles, extract titles\n",
    "articles = []\n",
    "summaries = soup.find_all(\"tr\", class_=\"athing\")\n",
    "for summary in summaries:\n",
    "    title = summary.find(\"a\", class_=\"storylink\").get_text().strip()\n",
    "    articles.append((title))\n",
    "\n",
    "print(len(articles), \"Article summaries found. Sample:\")\n",
    "print(articles[0])"
   ]
  },
  {
   "cell_type": "markdown",
   "metadata": {
    "collapsed": true
   },
   "source": [
    "## Normalization"
   ]
  },
  {
   "cell_type": "markdown",
   "metadata": {},
   "source": [
    "### Case Normalization"
   ]
  },
  {
   "cell_type": "code",
   "execution_count": 13,
   "metadata": {},
   "outputs": [
    {
     "name": "stdout",
     "output_type": "stream",
     "text": [
      "The first time you see The Second Renaissance it may look boring. Look at it at least twice and definitely watch part 2. It will change your view of the matrix. Are the human people the ones who started the war ? Is AI a bad thing ?\n"
     ]
    }
   ],
   "source": [
    "# Sample text\n",
    "text = \"The first time you see The Second Renaissance it may look boring. Look at it at least twice and definitely watch part 2. It will change your view of the matrix. Are the human people the ones who started the war ? Is AI a bad thing ?\"\n",
    "print(text)"
   ]
  },
  {
   "cell_type": "code",
   "execution_count": 14,
   "metadata": {},
   "outputs": [
    {
     "name": "stdout",
     "output_type": "stream",
     "text": [
      "the first time you see the second renaissance it may look boring. look at it at least twice and definitely watch part 2. it will change your view of the matrix. are the human people the ones who started the war ? is ai a bad thing ?\n"
     ]
    }
   ],
   "source": [
    "# Convert to lowercase\n",
    "text = text.lower() \n",
    "print(text)"
   ]
  },
  {
   "cell_type": "markdown",
   "metadata": {},
   "source": [
    "### Punctuation Removal"
   ]
  },
  {
   "cell_type": "code",
   "execution_count": 15,
   "metadata": {},
   "outputs": [
    {
     "name": "stdout",
     "output_type": "stream",
     "text": [
      "the first time you see the second renaissance it may look boring  look at it at least twice and definitely watch part 2  it will change your view of the matrix  are the human people the ones who started the war   is ai a bad thing  \n"
     ]
    }
   ],
   "source": [
    "import re\n",
    "\n",
    "# Remove punctuation characters\n",
    "text = re.sub(r\"[^a-zA-Z0-9]\", \" \", text) \n",
    "print(text)"
   ]
  },
  {
   "cell_type": "markdown",
   "metadata": {},
   "source": [
    "## Tokenization"
   ]
  },
  {
   "cell_type": "code",
   "execution_count": 16,
   "metadata": {},
   "outputs": [
    {
     "name": "stdout",
     "output_type": "stream",
     "text": [
      "['the', 'first', 'time', 'you', 'see', 'the', 'second', 'renaissance', 'it', 'may', 'look', 'boring', 'look', 'at', 'it', 'at', 'least', 'twice', 'and', 'definitely', 'watch', 'part', '2', 'it', 'will', 'change', 'your', 'view', 'of', 'the', 'matrix', 'are', 'the', 'human', 'people', 'the', 'ones', 'who', 'started', 'the', 'war', 'is', 'ai', 'a', 'bad', 'thing']\n"
     ]
    }
   ],
   "source": [
    "# Split text into tokens (words)\n",
    "words = text.split()\n",
    "print(words)"
   ]
  },
  {
   "cell_type": "markdown",
   "metadata": {},
   "source": [
    "### NLTK: Natural Language ToolKit"
   ]
  },
  {
   "cell_type": "code",
   "execution_count": 17,
   "metadata": {},
   "outputs": [],
   "source": [
    "import os\n",
    "import nltk\n",
    "nltk.data.path.append(os.path.join(os.getcwd(), \"nltk_data\"))"
   ]
  },
  {
   "cell_type": "code",
   "execution_count": 18,
   "metadata": {},
   "outputs": [
    {
     "name": "stdout",
     "output_type": "stream",
     "text": [
      "Dr. Smith graduated from the University of Washington. He later started an analytics firm called Lux, which catered to enterprise customers.\n"
     ]
    }
   ],
   "source": [
    "# Another sample text\n",
    "text = \"Dr. Smith graduated from the University of Washington. He later started an analytics firm called Lux, which catered to enterprise customers.\"\n",
    "print(text)"
   ]
  },
  {
   "cell_type": "code",
   "execution_count": 19,
   "metadata": {},
   "outputs": [
    {
     "name": "stdout",
     "output_type": "stream",
     "text": [
      "['Dr.', 'Smith', 'graduated', 'from', 'the', 'University', 'of', 'Washington', '.', 'He', 'later', 'started', 'an', 'analytics', 'firm', 'called', 'Lux', ',', 'which', 'catered', 'to', 'enterprise', 'customers', '.']\n"
     ]
    }
   ],
   "source": [
    "from nltk.tokenize import word_tokenize\n",
    "\n",
    "# Split text into words using NLTK\n",
    "words = word_tokenize(text)\n",
    "print(words)"
   ]
  },
  {
   "cell_type": "code",
   "execution_count": 20,
   "metadata": {},
   "outputs": [
    {
     "name": "stdout",
     "output_type": "stream",
     "text": [
      "['Dr. Smith graduated from the University of Washington.', 'He later started an analytics firm called Lux, which catered to enterprise customers.']\n"
     ]
    }
   ],
   "source": [
    "from nltk.tokenize import sent_tokenize\n",
    "\n",
    "# Split text into sentences\n",
    "sentences = sent_tokenize(text)\n",
    "print(sentences)"
   ]
  },
  {
   "cell_type": "code",
   "execution_count": 21,
   "metadata": {},
   "outputs": [
    {
     "name": "stdout",
     "output_type": "stream",
     "text": [
      "['i', 'me', 'my', 'myself', 'we', 'our', 'ours', 'ourselves', 'you', \"you're\", \"you've\", \"you'll\", \"you'd\", 'your', 'yours', 'yourself', 'yourselves', 'he', 'him', 'his', 'himself', 'she', \"she's\", 'her', 'hers', 'herself', 'it', \"it's\", 'its', 'itself', 'they', 'them', 'their', 'theirs', 'themselves', 'what', 'which', 'who', 'whom', 'this', 'that', \"that'll\", 'these', 'those', 'am', 'is', 'are', 'was', 'were', 'be', 'been', 'being', 'have', 'has', 'had', 'having', 'do', 'does', 'did', 'doing', 'a', 'an', 'the', 'and', 'but', 'if', 'or', 'because', 'as', 'until', 'while', 'of', 'at', 'by', 'for', 'with', 'about', 'against', 'between', 'into', 'through', 'during', 'before', 'after', 'above', 'below', 'to', 'from', 'up', 'down', 'in', 'out', 'on', 'off', 'over', 'under', 'again', 'further', 'then', 'once', 'here', 'there', 'when', 'where', 'why', 'how', 'all', 'any', 'both', 'each', 'few', 'more', 'most', 'other', 'some', 'such', 'no', 'nor', 'not', 'only', 'own', 'same', 'so', 'than', 'too', 'very', 's', 't', 'can', 'will', 'just', 'don', \"don't\", 'should', \"should've\", 'now', 'd', 'll', 'm', 'o', 're', 've', 'y', 'ain', 'aren', \"aren't\", 'couldn', \"couldn't\", 'didn', \"didn't\", 'doesn', \"doesn't\", 'hadn', \"hadn't\", 'hasn', \"hasn't\", 'haven', \"haven't\", 'isn', \"isn't\", 'ma', 'mightn', \"mightn't\", 'mustn', \"mustn't\", 'needn', \"needn't\", 'shan', \"shan't\", 'shouldn', \"shouldn't\", 'wasn', \"wasn't\", 'weren', \"weren't\", 'won', \"won't\", 'wouldn', \"wouldn't\"]\n"
     ]
    }
   ],
   "source": [
    "# List stop words\n",
    "from nltk.corpus import stopwords\n",
    "print(stopwords.words(\"english\"))"
   ]
  },
  {
   "cell_type": "code",
   "execution_count": 22,
   "metadata": {},
   "outputs": [
    {
     "name": "stdout",
     "output_type": "stream",
     "text": [
      "['the', 'first', 'time', 'you', 'see', 'the', 'second', 'renaissance', 'it', 'may', 'look', 'boring', 'look', 'at', 'it', 'at', 'least', 'twice', 'and', 'definitely', 'watch', 'part', '2', 'it', 'will', 'change', 'your', 'view', 'of', 'the', 'matrix', 'are', 'the', 'human', 'people', 'the', 'ones', 'who', 'started', 'the', 'war', 'is', 'ai', 'a', 'bad', 'thing']\n"
     ]
    }
   ],
   "source": [
    "# Reset text\n",
    "text = \"The first time you see The Second Renaissance it may look boring. Look at it at least twice and definitely watch part 2. It will change your view of the matrix. Are the human people the ones who started the war ? Is AI a bad thing ?\"\n",
    "\n",
    "# Normalize it\n",
    "text = re.sub(r\"[^a-zA-Z0-9]\", \" \", text.lower())\n",
    "\n",
    "# Tokenize it\n",
    "words = text.split()\n",
    "print(words)"
   ]
  },
  {
   "cell_type": "code",
   "execution_count": 23,
   "metadata": {},
   "outputs": [
    {
     "name": "stdout",
     "output_type": "stream",
     "text": [
      "['first', 'time', 'see', 'second', 'renaissance', 'may', 'look', 'boring', 'look', 'least', 'twice', 'definitely', 'watch', 'part', '2', 'change', 'view', 'matrix', 'human', 'people', 'ones', 'started', 'war', 'ai', 'bad', 'thing']\n"
     ]
    }
   ],
   "source": [
    "# Remove stop words\n",
    "words = [w for w in words if w not in stopwords.words(\"english\")]\n",
    "print(words)"
   ]
  },
  {
   "cell_type": "markdown",
   "metadata": {},
   "source": [
    "### Sentence Parsing"
   ]
  },
  {
   "cell_type": "code",
   "execution_count": 24,
   "metadata": {},
   "outputs": [
    {
     "name": "stdout",
     "output_type": "stream",
     "text": [
      "(S\n",
      "  (NP I)\n",
      "  (VP\n",
      "    (VP (V shot) (NP (Det an) (N elephant)))\n",
      "    (PP (P in) (NP (Det my) (N pajamas)))))\n",
      "(S\n",
      "  (NP I)\n",
      "  (VP\n",
      "    (V shot)\n",
      "    (NP (Det an) (N elephant) (PP (P in) (NP (Det my) (N pajamas))))))\n"
     ]
    }
   ],
   "source": [
    "import nltk\n",
    "\n",
    "# Define a custom grammar\n",
    "my_grammar = nltk.CFG.fromstring(\"\"\"\n",
    "S -> NP VP\n",
    "PP -> P NP\n",
    "NP -> Det N | Det N PP | 'I'\n",
    "VP -> V NP | VP PP\n",
    "Det -> 'an' | 'my'\n",
    "N -> 'elephant' | 'pajamas'\n",
    "V -> 'shot'\n",
    "P -> 'in'\n",
    "\"\"\")\n",
    "parser = nltk.ChartParser(my_grammar)\n",
    "\n",
    "# Parse a sentence\n",
    "sentence = word_tokenize(\"I shot an elephant in my pajamas\")\n",
    "for tree in parser.parse(sentence):\n",
    "    print(tree)"
   ]
  },
  {
   "cell_type": "markdown",
   "metadata": {},
   "source": [
    "## Stemming & Lemmatization\n",
    "\n",
    "### Stemming"
   ]
  },
  {
   "cell_type": "code",
   "execution_count": 25,
   "metadata": {},
   "outputs": [
    {
     "name": "stdout",
     "output_type": "stream",
     "text": [
      "['first', 'time', 'see', 'second', 'renaiss', 'may', 'look', 'bore', 'look', 'least', 'twice', 'definit', 'watch', 'part', '2', 'chang', 'view', 'matrix', 'human', 'peopl', 'one', 'start', 'war', 'ai', 'bad', 'thing']\n"
     ]
    }
   ],
   "source": [
    "from nltk.stem.porter import PorterStemmer\n",
    "\n",
    "# Reduce words to their stems\n",
    "stemmed = [PorterStemmer().stem(w) for w in words]\n",
    "print(stemmed)"
   ]
  },
  {
   "cell_type": "markdown",
   "metadata": {},
   "source": [
    "### Lemmatization"
   ]
  },
  {
   "cell_type": "code",
   "execution_count": 26,
   "metadata": {},
   "outputs": [
    {
     "name": "stdout",
     "output_type": "stream",
     "text": [
      "['first', 'time', 'see', 'second', 'renaissance', 'may', 'look', 'boring', 'look', 'least', 'twice', 'definitely', 'watch', 'part', '2', 'change', 'view', 'matrix', 'human', 'people', 'one', 'started', 'war', 'ai', 'bad', 'thing']\n"
     ]
    }
   ],
   "source": [
    "from nltk.stem.wordnet import WordNetLemmatizer\n",
    "\n",
    "# Reduce words to their root form\n",
    "lemmed = [WordNetLemmatizer().lemmatize(w) for w in words]\n",
    "print(lemmed)"
   ]
  },
  {
   "cell_type": "code",
   "execution_count": 27,
   "metadata": {},
   "outputs": [
    {
     "name": "stdout",
     "output_type": "stream",
     "text": [
      "['first', 'time', 'see', 'second', 'renaissance', 'may', 'look', 'bore', 'look', 'least', 'twice', 'definitely', 'watch', 'part', '2', 'change', 'view', 'matrix', 'human', 'people', 'one', 'start', 'war', 'ai', 'bad', 'thing']\n"
     ]
    }
   ],
   "source": [
    "# Lemmatize verbs by specifying pos\n",
    "lemmed = [WordNetLemmatizer().lemmatize(w, pos='v') for w in lemmed]\n",
    "print(lemmed)"
   ]
  },
  {
   "cell_type": "code",
   "execution_count": null,
   "metadata": {},
   "outputs": [],
   "source": []
  }
 ],
 "metadata": {
  "kernelspec": {
   "display_name": "Python 3",
   "language": "python",
   "name": "python3"
  },
  "language_info": {
   "codemirror_mode": {
    "name": "ipython",
    "version": 3
   },
   "file_extension": ".py",
   "mimetype": "text/x-python",
   "name": "python",
   "nbconvert_exporter": "python",
   "pygments_lexer": "ipython3",
   "version": "3.7.3"
  }
 },
 "nbformat": 4,
 "nbformat_minor": 2
}
